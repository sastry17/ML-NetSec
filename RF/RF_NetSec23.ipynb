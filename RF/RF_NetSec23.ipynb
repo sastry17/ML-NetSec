{
  "nbformat": 4,
  "nbformat_minor": 0,
  "metadata": {
    "colab": {
      "provenance": []
    },
    "kernelspec": {
      "name": "python3",
      "display_name": "Python 3"
    },
    "language_info": {
      "name": "python"
    }
  },
  "cells": [
    {
      "cell_type": "markdown",
      "source": [
        "Now that we have some pcap files, we will write a script to trin our ML Alogirthm with the known pcaps and pcaps without portscans.\n",
        "\n",
        "There are 9 Steps in this activity."
      ],
      "metadata": {
        "id": "Sn80tRM3gdjD"
      }
    },
    {
      "cell_type": "markdown",
      "source": [
        "Step 1: Download the required libraries"
      ],
      "metadata": {
        "id": "Zh0zjbmoRupX"
      }
    },
    {
      "cell_type": "code",
      "source": [
        "#install the required libraries\n",
        "%pip install scapy\n",
        "%pip install numpy\n",
        "%pip install -U scikit-learn"
      ],
      "metadata": {
        "id": "jGtGX3innv_G",
        "colab": {
          "base_uri": "https://localhost:8080/"
        },
        "outputId": "9f3d7619-a378-4f2d-861f-603212ea3e9c"
      },
      "execution_count": 3,
      "outputs": [
        {
          "output_type": "stream",
          "name": "stdout",
          "text": [
            "Requirement already satisfied: scapy in /usr/local/lib/python3.10/dist-packages (2.5.0)\n",
            "Requirement already satisfied: numpy in /usr/local/lib/python3.10/dist-packages (1.23.5)\n",
            "Requirement already satisfied: scikit-learn in /usr/local/lib/python3.10/dist-packages (1.3.2)\n",
            "Requirement already satisfied: numpy<2.0,>=1.17.3 in /usr/local/lib/python3.10/dist-packages (from scikit-learn) (1.23.5)\n",
            "Requirement already satisfied: scipy>=1.5.0 in /usr/local/lib/python3.10/dist-packages (from scikit-learn) (1.11.3)\n",
            "Requirement already satisfied: joblib>=1.1.1 in /usr/local/lib/python3.10/dist-packages (from scikit-learn) (1.3.2)\n",
            "Requirement already satisfied: threadpoolctl>=2.0.0 in /usr/local/lib/python3.10/dist-packages (from scikit-learn) (3.2.0)\n"
          ]
        }
      ]
    },
    {
      "cell_type": "markdown",
      "source": [
        "Step 2: Import all the needed libs"
      ],
      "metadata": {
        "id": "XblFvbosL8if"
      }
    },
    {
      "cell_type": "code",
      "source": [
        "# Import necessary libraries\n",
        "import os\n",
        "import numpy as np\n",
        "import pandas as pd\n",
        "from scapy.all import *\n",
        "from sklearn.ensemble import RandomForestClassifier\n",
        "from sklearn.model_selection import train_test_split\n",
        "from sklearn.metrics import accuracy_score, classification_report"
      ],
      "metadata": {
        "id": "kVbkwm6rL9w1"
      },
      "execution_count": 4,
      "outputs": []
    },
    {
      "cell_type": "markdown",
      "source": [
        "Step 3: We will write a function to convert the flags from the TCP header from the FlagValue type to integer to extract the set flags."
      ],
      "metadata": {
        "id": "YQn7El92Ryk0"
      }
    },
    {
      "cell_type": "code",
      "source": [
        "# Function to convert custom flags to numeric representation\n",
        "def convert_flags_to_numeric(flags):\n",
        "    # Map each unique flag to a numeric value\n",
        "    flag_mapping = {'R': 4, 'S': 2, 'F': 1, 'P': 8, 'A':16, 'U':32, 'SA':18, 'PA':24,'FPU':41,'FRP':13,'RA':20,'FA':17}  # Add more flags as needed\n",
        "    return flag_mapping.get(flags, 0)  # Default to 0 if flag is not in mapping"
      ],
      "metadata": {
        "id": "VdF7jhPIRHBK"
      },
      "execution_count": 5,
      "outputs": []
    },
    {
      "cell_type": "markdown",
      "source": [
        "Step 4: We will now extract some features from the packets in the network traffic to train the RF model"
      ],
      "metadata": {
        "id": "lGBhTeFlR-va"
      }
    },
    {
      "cell_type": "code",
      "source": [
        "# Function to extract features from a packet\n",
        "def extract_features(packet):\n",
        "    # Add more features based on your requirements\n",
        "\n",
        "    features = [\n",
        "        len(packet),\n",
        "        packet[IP].ttl,\n",
        "        convert_flags_to_numeric(str(packet[TCP].flags)),\n",
        "        packet[TCP].sport,\n",
        "        packet[TCP].dport,\n",
        "    ]\n",
        "    return features"
      ],
      "metadata": {
        "id": "1JJ0oiDGRLTG"
      },
      "execution_count": 6,
      "outputs": []
    },
    {
      "cell_type": "markdown",
      "source": [
        "Step 5: After extracting the features, it is now time to load the training dataset (pcap files). The below function loads all the data from a folder that contains pcaps of portscan traffic and extract the features using the above function.\n",
        "\n",
        "Thanks to Julie, Nicolaj and Orestis for providing the pcap files from their project work. 🙂"
      ],
      "metadata": {
        "id": "PokOmyelSLWp"
      }
    },
    {
      "cell_type": "code",
      "source": [
        "# Function to load PCAP files and extract features\n",
        "def load_data(folder_path):\n",
        "    data = []\n",
        "    labels = []\n",
        "\n",
        "    for filename in os.listdir(folder_path):\n",
        "        if filename.endswith(\".pcapng\"):\n",
        "            file_path = os.path.join(folder_path, filename)\n",
        "            packets = rdpcap(file_path)\n",
        "\n",
        "            for packet in packets:\n",
        "                if IP in packet and TCP in packet:\n",
        "                    features = extract_features(packet)\n",
        "                    data.append(features)\n",
        "                    # Ensure labels are numeric (0 or 1)\n",
        "                    labels.append(1 if packet[TCP].flags == \"SA\" else 0)\n",
        "\n",
        "                    #Assignment: Change the above statement for more accurate portscan labelleing by adding more flags\n",
        "                    #labels.append(1 if packet[TCP].flags == \"SA\" or if packet[TCP].flags == ?? or if packet[TCP].flags == ??  else 0)\n",
        "\n",
        "\n",
        "    return np.array(data), np.array(labels)"
      ],
      "metadata": {
        "id": "Y3E3mbW2RRJJ"
      },
      "execution_count": 7,
      "outputs": []
    },
    {
      "cell_type": "markdown",
      "source": [
        "Step 6: The function below will obtain the dataset path from the user. Next, it splits the dataset into training and testing dataset. Lastly, it will use the training dataset to train the RF model for predictions."
      ],
      "metadata": {
        "id": "eF0NBP2OTKGl"
      }
    },
    {
      "cell_type": "code",
      "source": [
        "# Load PCAP data and split into training and testing sets\n",
        "data_path = \"/content/sample_data/portscans-nikolaj\"\n",
        "X, y = load_data(data_path)\n",
        "X_train, X_test, y_train, y_test = train_test_split(X, y, test_size=0.2, random_state=42)\n",
        "\n",
        "# Create and train the random forest model\n",
        "#rf_model = RandomForestClassifier(n_estimators=100, random_state=42)\n",
        "#rf_model.fit(X_train, y_train)\n",
        "#print(X_train)\n",
        "try:\n",
        "    rf_model = RandomForestClassifier(n_estimators=100, random_state=42)\n",
        "    rf_model.fit(X_train, y_train)\n",
        "except ValueError as e:\n",
        "    print(\"Error:\", e)\n",
        "    print(\"Non-numeric values in x_train. Checking non-numeric data:\")\n",
        "\n",
        "    # Print non-numeric values in y_train\n",
        "    non_numeric_indices = [i for i, label in enumerate(X_train) if not isinstance(label, (int, np.integer))]\n",
        "    non_numeric_data = X_train[non_numeric_indices]\n",
        "    #print(\"Non-numeric data:\", non_numeric_data)\n",
        "    exit()"
      ],
      "metadata": {
        "id": "e1jq6bumRVJb"
      },
      "execution_count": 8,
      "outputs": []
    },
    {
      "cell_type": "markdown",
      "source": [
        "Step 7: Now, we have a function to train and test the model. Lets us use the below function to evaluate the model. The function below tests the model for its accuracy."
      ],
      "metadata": {
        "id": "nXmsFCtTUQQx"
      }
    },
    {
      "cell_type": "code",
      "source": [
        "# Make predictions on the test set\n",
        "y_pred = rf_model.predict(X_test)\n",
        "\n",
        "# Evaluate the model\n",
        "accuracy = accuracy_score(y_test, y_pred)\n",
        "print(f\"Accuracy: {accuracy}\")\n",
        "print(\"Classification Report:\")\n",
        "print(classification_report(y_test, y_pred))"
      ],
      "metadata": {
        "colab": {
          "base_uri": "https://localhost:8080/"
        },
        "id": "s0GEyYEERdFZ",
        "outputId": "693f7331-a821-4dae-a9c7-62414e1e5286"
      },
      "execution_count": 9,
      "outputs": [
        {
          "output_type": "stream",
          "name": "stdout",
          "text": [
            "Accuracy: 1.0\n",
            "Classification Report:\n",
            "              precision    recall  f1-score   support\n",
            "\n",
            "           0       1.00      1.00      1.00       461\n",
            "           1       1.00      1.00      1.00         7\n",
            "\n",
            "    accuracy                           1.00       468\n",
            "   macro avg       1.00      1.00      1.00       468\n",
            "weighted avg       1.00      1.00      1.00       468\n",
            "\n"
          ]
        }
      ]
    },
    {
      "cell_type": "markdown",
      "source": [
        "Step 8: Understanding the output\n",
        "\n",
        "\n",
        "The output you provided is from the classification report, which is a summary of different performance metrics for your machine learning model. Here's an explanation of the key metrics:\n",
        "\n",
        "**Accuracy (Overall Accuracy)**:\\\n",
        "Value: 1.0\\\n",
        "Explanation: Accuracy is the ratio of correctly predicted instances to the total instances. In this case, an accuracy of 1.0 (or 100%) indicates that all instances in your test set were correctly classified by the model.\n",
        "\n",
        "**Precision:**\\\n",
        "Precision for class 0 (Non-portscan): 1.00 \\\n",
        "Precision for class 1 (Portscan): 1.00 \\\n",
        "Explanation: Precision is the ratio of correctly predicted positive observations to the total predicted positives. A precision of 1.00 means that there were no false positives for both classes.\n",
        "\n",
        "**Recall (Sensitivity, True Positive Rate):**\\\n",
        "Recall for class 0 (Non-portscan): 1.00 \\\n",
        "Recall for class 1 (Portscan): 1.00 \\\n",
        "Explanation: Recall is the ratio of correctly predicted positive observations to the all observations in actual class. A recall of 1.00 indicates that there were no false negatives for both classes.\n",
        "\n",
        "**F1-Score:** \\\n",
        "F1-score for class 0 (Non-portscan): 1.00 \\\n",
        "F1-score for class 1 (Portscan): 1.00 \\\n",
        "Explanation: F1-score is the weighted average of precision and recall. It's a metric that considers both false positives and false negatives. A value of 1.00 indicates perfect precision and recall for both classes.\n",
        "\n",
        "**Support:**\\\n",
        "Support for class 0 (Non-portscan): 5 \\\n",
        "Support for class 1 (Portscan): 4 \\\n",
        "Explanation: Support is the number of actual occurrences of the class in the specified dataset. In this case, there were 5 instances of class 0 (non-portscan) and 4 instances of class 1 (portscan) in your test set.\n",
        "\n",
        "**Macro Average**:\n",
        "Macro Average Precision, Recall, and F1-Score: 1.00 \\\n",
        "Explanation: Macro average calculates the metric independently for each class and then takes the average. In this case, the macro average precision, recall, and F1-score are all 1.00, indicating perfect performance on average across classes.\n",
        "\n",
        "**Weighted Average:** \\\n",
        "Weighted Average Precision, Recall, and F1-Score: 1.00\n",
        "Explanation: Weighted average calculates the metric for each class and then takes the weighted average based on the number of instances of each class. In this case, the weighted average precision, recall, and F1-score are all 1.00, indicating perfect performance with weight given to class imbalance."
      ],
      "metadata": {
        "id": "FKYUP6dGUfxK"
      }
    },
    {
      "cell_type": "markdown",
      "source": [
        "Step 9: ***Now let us validate with a user input as pcap:*** 🎱"
      ],
      "metadata": {
        "id": "DFIzzwlNpIBd"
      }
    },
    {
      "cell_type": "code",
      "source": [
        "# Accept a PCAP file path from the user for validation\n",
        "user_pcap_path = input(\"Enter the path to the PCAP file for validation: \")\n",
        "\n",
        "# Load the user-provided PCAP file and make predictions\n",
        "user_packets = rdpcap(user_pcap_path)\n",
        "user_data = [extract_features(packet) for packet in user_packets if IP in packet and TCP in packet]\n",
        "\n",
        "user_data = [extract_features(packet) for packet in user_packets if IP in packet and TCP in packet]\n",
        "user_predictions = rf_model.predict(user_data)\n",
        "\n",
        "# Display predictions for each packet\n",
        "for i, prediction in enumerate(user_predictions):\n",
        "    print(f\"Packet {i + 1}: {'Portscan detected' if prediction == 1 else 'Non-Portscan'}\")"
      ],
      "metadata": {
        "id": "pW7a3OLMnvt9",
        "colab": {
          "base_uri": "https://localhost:8080/"
        },
        "outputId": "81785515-3e4c-4676-f893-31833e7fff6c"
      },
      "execution_count": 11,
      "outputs": [
        {
          "output_type": "stream",
          "name": "stdout",
          "text": [
            "Enter the path to the PCAP file for validation: /content/sample_data/nmap version detection port 22 scanner.pcapng\n",
            "Packet 1: Non-Portscan\n",
            "Packet 2: Non-Portscan\n",
            "Packet 3: Non-Portscan\n",
            "Packet 4: Non-Portscan\n",
            "Packet 5: Non-Portscan\n",
            "Packet 6: Portscan detected\n",
            "Packet 7: Non-Portscan\n",
            "Packet 8: Non-Portscan\n",
            "Packet 9: Non-Portscan\n",
            "Packet 10: Portscan detected\n",
            "Packet 11: Non-Portscan\n",
            "Packet 12: Non-Portscan\n",
            "Packet 13: Non-Portscan\n",
            "Packet 14: Non-Portscan\n",
            "Packet 15: Non-Portscan\n",
            "Packet 16: Non-Portscan\n"
          ]
        }
      ]
    }
  ]
}