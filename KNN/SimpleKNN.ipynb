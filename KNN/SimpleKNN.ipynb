{
  "nbformat": 4,
  "nbformat_minor": 0,
  "metadata": {
    "colab": {
      "provenance": []
    },
    "kernelspec": {
      "name": "python3",
      "display_name": "Python 3"
    },
    "language_info": {
      "name": "python"
    }
  },
  "cells": [
    {
      "cell_type": "markdown",
      "source": [
        "In this activity, we will look at the KNN model with a simple example of a network simulation through a graph. This example can be related to network anamoly detection using KNN.\n",
        "\n",
        "The activity has a total of 6 Steps."
      ],
      "metadata": {
        "id": "NpstjK7bjvrD"
      }
    },
    {
      "cell_type": "markdown",
      "source": [
        "Step 1: Install and import the lbraries"
      ],
      "metadata": {
        "id": "4E6MkStgjwhN"
      }
    },
    {
      "cell_type": "code",
      "source": [
        "%pip install networkx\n",
        "\n",
        "import networkx as nx\n",
        "import numpy as np\n",
        "from sklearn.neighbors import NearestNeighbors\n",
        "import matplotlib.pyplot as plt"
      ],
      "metadata": {
        "id": "4GRAjeF4gf6q"
      },
      "execution_count": null,
      "outputs": []
    },
    {
      "cell_type": "markdown",
      "source": [
        "Step 2: The function below creates a synthetic graph. \\\n",
        "A synthetic graph is a graph that is not derived from real-world data but is instead created using a generative model. This means that the graph's structure and properties are determined by the model's parameters, which can be set to reflect the desired characteristics of the graph.\\\n",
        "While creating the graph, we will induce an anomaly to train and test the model."
      ],
      "metadata": {
        "id": "TiG1ScN6kSbp"
      }
    },
    {
      "cell_type": "code",
      "source": [
        "# Function to generate a synthetic graph with an anomaly\n",
        "def generate_synthetic_graph():\n",
        "    G = nx.erdos_renyi_graph(20, 0.1)  # Generate a random graph (you can adjust parameters)\n",
        "\n",
        "    # Introduce an anomaly by adding an edge not following the normal pattern\n",
        "    anomaly_edge = (5,25)\n",
        "    G.add_edge(*anomaly_edge)\n",
        "\n",
        "    return G"
      ],
      "metadata": {
        "id": "Ghbba4OcjTKE"
      },
      "execution_count": 14,
      "outputs": []
    },
    {
      "cell_type": "markdown",
      "source": [
        "Step 3: The function below visualizes the sunthetic graph generated with the above function."
      ],
      "metadata": {
        "id": "4-g5QC7vlHS5"
      }
    },
    {
      "cell_type": "code",
      "source": [
        "# Function to visualize the graph\n",
        "def visualize_graph(G, anomaly_edge=None):\n",
        "    pos = nx.spring_layout(G)\n",
        "    nx.draw(G, pos, with_labels=True, node_size=50, node_color='skyblue', font_size=8, font_color='black')\n",
        "\n",
        "    if anomaly_edge:\n",
        "        nx.draw_networkx_edges(G, pos, edgelist=[anomaly_edge], edge_color='red', width=2)\n",
        "\n",
        "    plt.show()"
      ],
      "metadata": {
        "id": "08zX0YdzjXN5"
      },
      "execution_count": 11,
      "outputs": []
    },
    {
      "cell_type": "markdown",
      "source": [
        "Step 4: The function below is used for detecting the anamolies with KNN. First the features are extracted from the graph like the degree of each node. Then the KNN is used to identify anomalies and assign a score based on the distances."
      ],
      "metadata": {
        "id": "HsobWe_qlWTJ"
      }
    },
    {
      "cell_type": "code",
      "source": [
        "# Function to detect anomalies using KNN\n",
        "def detect_anomalies(G, k=5):\n",
        "    # Extract graph features (e.g., node degrees)\n",
        "    features = np.array(list(dict(G.degree).values())).reshape(-1, 1)\n",
        "\n",
        "    # Use KNN to identify anomalies\n",
        "    nbrs = NearestNeighbors(n_neighbors=k, algorithm='auto').fit(features)\n",
        "    distances, indices = nbrs.kneighbors(features)\n",
        "\n",
        "    # Calculate anomaly score based on distances\n",
        "    anomaly_scores = distances[:, -1]\n",
        "\n",
        "    return anomaly_scores"
      ],
      "metadata": {
        "id": "wkpivacZjZto"
      },
      "execution_count": 12,
      "outputs": []
    },
    {
      "cell_type": "markdown",
      "source": [
        "Step 5: The function below is used to call the functions above and for enumerating the anomaly scores."
      ],
      "metadata": {
        "id": "o6ka6uQVlxMp"
      }
    },
    {
      "cell_type": "code",
      "source": [
        "# Main function\n",
        "def main():\n",
        "    # Generate a synthetic graph\n",
        "    G = generate_synthetic_graph()\n",
        "\n",
        "    # Visualize the graph with the anomaly\n",
        "    visualize_graph(G, anomaly_edge=(5, 25))\n",
        "\n",
        "    # Detect anomalies using KNN\n",
        "    anomaly_scores = detect_anomalies(G, k=5)\n",
        "\n",
        "    # Print anomaly scores for each node\n",
        "    for i, score in enumerate(anomaly_scores):\n",
        "        print(f\"Node {i}: Anomaly Score = {score:.4f}\")\n",
        "\n",
        "if __name__ == \"__main__\":\n",
        "    main()"
      ],
      "metadata": {
        "colab": {
          "base_uri": "https://localhost:8080/",
          "height": 891
        },
        "id": "MzZhiTykjb6O",
        "outputId": "fd7c497f-2683-43b7-af36-032f08993128"
      },
      "execution_count": 13,
      "outputs": [
        {
          "output_type": "display_data",
          "data": {
            "text/plain": [
              "<Figure size 640x480 with 1 Axes>"
            ],
            "image/png": "[encoded data removed]"
          },
          "metadata": {}
        },
        {
          "output_type": "stream",
          "name": "stdout",
          "text": [
            "Node 0: Anomaly Score = 1.0000\n",
            "Node 1: Anomaly Score = 1.0000\n",
            "Node 2: Anomaly Score = 1.0000\n",
            "Node 3: Anomaly Score = 0.0000\n",
            "Node 4: Anomaly Score = 0.0000\n",
            "Node 5: Anomaly Score = 0.0000\n",
            "Node 6: Anomaly Score = 0.0000\n",
            "Node 7: Anomaly Score = 0.0000\n",
            "Node 8: Anomaly Score = 0.0000\n",
            "Node 9: Anomaly Score = 0.0000\n",
            "Node 10: Anomaly Score = 0.0000\n",
            "Node 11: Anomaly Score = 1.0000\n",
            "Node 12: Anomaly Score = 1.0000\n",
            "Node 13: Anomaly Score = 0.0000\n",
            "Node 14: Anomaly Score = 1.0000\n",
            "Node 15: Anomaly Score = 1.0000\n",
            "Node 16: Anomaly Score = 0.0000\n",
            "Node 17: Anomaly Score = 0.0000\n",
            "Node 18: Anomaly Score = 0.0000\n",
            "Node 19: Anomaly Score = 1.0000\n",
            "Node 20: Anomaly Score = 0.0000\n"
          ]
        }
      ]
    },
    {
      "cell_type": "markdown",
      "source": [
        "Step 6: Analyse the output to observe the anomalies.\n",
        "\n",
        "Note: Step 5 can be run repeatedly to generate multiple graphs and calculating the anomaly scores."
      ],
      "metadata": {
        "id": "qEryytTymIGE"
      }
    }
  ]
}