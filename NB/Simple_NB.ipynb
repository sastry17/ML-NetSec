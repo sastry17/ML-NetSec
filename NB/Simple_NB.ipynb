{
  "nbformat": 4,
  "nbformat_minor": 0,
  "metadata": {
    "colab": {
      "provenance": []
    },
    "kernelspec": {
      "name": "python3",
      "display_name": "Python 3"
    },
    "language_info": {
      "name": "python"
    }
  },
  "cells": [
    {
      "cell_type": "markdown",
      "source": [
        "In this example, we will use Naive Bayes Classifier for Anomaly Detection. We will use a sample pcap file from a honeypot as our training and test dataset. The script will extract features like src_ip, dst_ip, protocol and packet size. Lastly, we will evaluate the model by visualizing the classification and the decision boundry.\n",
        "\n",
        "The activity has a total of  Steps."
      ],
      "metadata": {
        "id": "xqf4FlDatsgt"
      }
    },
    {
      "cell_type": "markdown",
      "source": [
        "Step 1: Install and import the libs."
      ],
      "metadata": {
        "id": "zDD321nnugho"
      }
    },
    {
      "cell_type": "code",
      "execution_count": 1,
      "metadata": {
        "id": "ZcMvRIRYaM1L",
        "colab": {
          "base_uri": "https://localhost:8080/"
        },
        "outputId": "68d1a9df-1edb-4341-b69d-9ed5642c8f3c"
      },
      "outputs": [
        {
          "output_type": "stream",
          "name": "stdout",
          "text": [
            "Requirement already satisfied: scikit-learn in /usr/local/lib/python3.10/dist-packages (1.2.2)\n",
            "Collecting scikit-learn\n",
            "  Downloading scikit_learn-1.3.2-cp310-cp310-manylinux_2_17_x86_64.manylinux2014_x86_64.whl (10.8 MB)\n",
            "\u001b[2K     \u001b[90m━━━━━━━━━━━━━━━━━━━━━━━━━━━━━━━━━━━━━━━━\u001b[0m \u001b[32m10.8/10.8 MB\u001b[0m \u001b[31m40.0 MB/s\u001b[0m eta \u001b[36m0:00:00\u001b[0m\n",
            "\u001b[?25hRequirement already satisfied: numpy<2.0,>=1.17.3 in /usr/local/lib/python3.10/dist-packages (from scikit-learn) (1.23.5)\n",
            "Requirement already satisfied: scipy>=1.5.0 in /usr/local/lib/python3.10/dist-packages (from scikit-learn) (1.11.3)\n",
            "Requirement already satisfied: joblib>=1.1.1 in /usr/local/lib/python3.10/dist-packages (from scikit-learn) (1.3.2)\n",
            "Requirement already satisfied: threadpoolctl>=2.0.0 in /usr/local/lib/python3.10/dist-packages (from scikit-learn) (3.2.0)\n",
            "Installing collected packages: scikit-learn\n",
            "  Attempting uninstall: scikit-learn\n",
            "    Found existing installation: scikit-learn 1.2.2\n",
            "    Uninstalling scikit-learn-1.2.2:\n",
            "      Successfully uninstalled scikit-learn-1.2.2\n",
            "Successfully installed scikit-learn-1.3.2\n",
            "Collecting scapy\n",
            "  Downloading scapy-2.5.0.tar.gz (1.3 MB)\n",
            "\u001b[2K     \u001b[90m━━━━━━━━━━━━━━━━━━━━━━━━━━━━━━━━━━━━━━━━\u001b[0m \u001b[32m1.3/1.3 MB\u001b[0m \u001b[31m9.6 MB/s\u001b[0m eta \u001b[36m0:00:00\u001b[0m\n",
            "\u001b[?25h  Preparing metadata (setup.py) ... \u001b[?25l\u001b[?25hdone\n",
            "Building wheels for collected packages: scapy\n",
            "  Building wheel for scapy (setup.py) ... \u001b[?25l\u001b[?25hdone\n",
            "  Created wheel for scapy: filename=scapy-2.5.0-py2.py3-none-any.whl size=1444330 sha256=b40ada3f0bbe2b22ed14a0c5e451cf0a8cdd30fc142dd45b6aa63a3fd75a09bf\n",
            "  Stored in directory: /root/.cache/pip/wheels/82/b7/03/8344d8cf6695624746311bc0d389e9d05535ca83c35f90241d\n",
            "Successfully built scapy\n",
            "Installing collected packages: scapy\n",
            "Successfully installed scapy-2.5.0\n"
          ]
        }
      ],
      "source": [
        "%pip install -U scikit-learn\n",
        "%pip install scapy\n",
        "import pandas as pd\n",
        "from scapy.all import rdpcap, IP\n",
        "from sklearn.model_selection import train_test_split\n",
        "from sklearn.naive_bayes import GaussianNB\n",
        "from sklearn.metrics import accuracy_score, classification_report\n",
        "from sklearn.preprocessing import LabelEncoder, OneHotEncoder"
      ]
    },
    {
      "cell_type": "markdown",
      "source": [
        "Step 2: The function below extracts the features like source IP, destination IP, protocol and packet_size from the packets in the pcap file."
      ],
      "metadata": {
        "id": "Rr2hb42Duqqc"
      }
    },
    {
      "cell_type": "code",
      "source": [
        "def extract_features(packet):\n",
        "    # Extract relevant features from the packet\n",
        "    src_ip = packet[IP].src if IP in packet else 'Unknown'\n",
        "    dst_ip = packet[IP].dst if IP in packet else 'Unknown'\n",
        "    protocol = packet.sprintf(\"%IP.proto%\") if IP in packet else 'Unknown'\n",
        "    packet_size = len(packet)\n",
        "\n",
        "    return {'Source_IP': src_ip, 'Destination_IP': dst_ip, 'Protocol': protocol, 'Packet_Size': packet_size}\n",
        "\n"
      ],
      "metadata": {
        "id": "yQQcWQ7eaUH8"
      },
      "execution_count": 2,
      "outputs": []
    },
    {
      "cell_type": "markdown",
      "source": [
        "Step 3: Load the pcap file and extract features using the function above. Next, create a dataframe with the extracted features."
      ],
      "metadata": {
        "id": "zUajAA5pvNpR"
      }
    },
    {
      "cell_type": "code",
      "source": [
        "# Load pcap file\n",
        "#pcap_file = ''\n",
        "pcap_file = '/content/sample_data/1108-1208.pcap'\n",
        "packets = rdpcap(pcap_file)\n",
        "\n",
        "# Extract features from each packet\n",
        "data = [extract_features(packet) for packet in packets]\n",
        "\n",
        "# Create a DataFrame from the extracted features\n",
        "df = pd.DataFrame(data)"
      ],
      "metadata": {
        "id": "dnf7CVAQvDb-"
      },
      "execution_count": 3,
      "outputs": []
    },
    {
      "cell_type": "markdown",
      "source": [
        "Step 4: Encode the categorial variables (features) to make it all a compatible datatype for training.\n",
        "\n",
        "One hot encoding is a process by which categorical variables are converted into a form that could be provided to ML algorithms to do a better job in prediction."
      ],
      "metadata": {
        "id": "MQg_q5_FviBt"
      }
    },
    {
      "cell_type": "code",
      "source": [
        "# One-hot encode categorical variables\n",
        "df = pd.get_dummies(df, columns=['Source_IP', 'Destination_IP', 'Protocol'], drop_first=True)"
      ],
      "metadata": {
        "id": "TsX7PQNhvgUb"
      },
      "execution_count": 4,
      "outputs": []
    },
    {
      "cell_type": "markdown",
      "source": [
        "Step 5: Assign the labels normal and anomalous for the traffic and classification. In this example, we will assume all packets with abnormal packet size as a characteristic for anomalous labelling."
      ],
      "metadata": {
        "id": "d8cS8-B8v8cQ"
      }
    },
    {
      "cell_type": "code",
      "source": [
        "# Assign labels (0: Normal, 1: Anomalous)\n",
        "df['Anomalous'] = 0\n",
        "\n",
        "# Assume packets with abnormal characteristics as anomalous\n",
        "df.loc[df['Packet_Size'] > df['Packet_Size'].mean() + 2 * df['Packet_Size'].std(), 'Anomalous'] = 1"
      ],
      "metadata": {
        "id": "DjQnxq7Wvy0n"
      },
      "execution_count": 5,
      "outputs": []
    },
    {
      "cell_type": "markdown",
      "source": [
        "Step 6: Split the dataset into features set and target set. Further, split the data into training and test dataset."
      ],
      "metadata": {
        "id": "wBUvwR0ewbTz"
      }
    },
    {
      "cell_type": "code",
      "source": [
        "# Split the data into features and target\n",
        "X = df.drop('Anomalous', axis=1)\n",
        "y = df['Anomalous']\n",
        "\n",
        "# Split the data into training and testing sets\n",
        "X_train, X_test, y_train, y_test = train_test_split(X, y, test_size=0.2, random_state=42)"
      ],
      "metadata": {
        "id": "K1hbC26VwZMG"
      },
      "execution_count": 6,
      "outputs": []
    },
    {
      "cell_type": "markdown",
      "source": [
        "Step 7: Create a NB classifier and train the model."
      ],
      "metadata": {
        "id": "EsIz3BwEwv6o"
      }
    },
    {
      "cell_type": "code",
      "source": [
        "# Create a Naive Bayes classifier\n",
        "model = GaussianNB()\n",
        "\n",
        "# Train the model\n",
        "model.fit(X_train, y_train)"
      ],
      "metadata": {
        "colab": {
          "base_uri": "https://localhost:8080/",
          "height": 75
        },
        "id": "YraW7C2nwr0j",
        "outputId": "add24f5d-d97a-4ae0-d8c9-dd126070334b"
      },
      "execution_count": 7,
      "outputs": [
        {
          "output_type": "execute_result",
          "data": {
            "text/plain": [
              "GaussianNB()"
            ],
            "text/html": [
              "<style>#sk-container-id-1 {color: black;}#sk-container-id-1 pre{padding: 0;}#sk-container-id-1 div.sk-toggleable {background-color: white;}#sk-container-id-1 label.sk-toggleable__label {cursor: pointer;display: block;width: 100%;margin-bottom: 0;padding: 0.3em;box-sizing: border-box;text-align: center;}#sk-container-id-1 label.sk-toggleable__label-arrow:before {content: \"▸\";float: left;margin-right: 0.25em;color: #696969;}#sk-container-id-1 label.sk-toggleable__label-arrow:hover:before {color: black;}#sk-container-id-1 div.sk-estimator:hover label.sk-toggleable__label-arrow:before {color: black;}#sk-container-id-1 div.sk-toggleable__content {max-height: 0;max-width: 0;overflow: hidden;text-align: left;background-color: #f0f8ff;}#sk-container-id-1 div.sk-toggleable__content pre {margin: 0.2em;color: black;border-radius: 0.25em;background-color: #f0f8ff;}#sk-container-id-1 input.sk-toggleable__control:checked~div.sk-toggleable__content {max-height: 200px;max-width: 100%;overflow: auto;}#sk-container-id-1 input.sk-toggleable__control:checked~label.sk-toggleable__label-arrow:before {content: \"▾\";}#sk-container-id-1 div.sk-estimator input.sk-toggleable__control:checked~label.sk-toggleable__label {background-color: #d4ebff;}#sk-container-id-1 div.sk-label input.sk-toggleable__control:checked~label.sk-toggleable__label {background-color: #d4ebff;}#sk-container-id-1 input.sk-hidden--visually {border: 0;clip: rect(1px 1px 1px 1px);clip: rect(1px, 1px, 1px, 1px);height: 1px;margin: -1px;overflow: hidden;padding: 0;position: absolute;width: 1px;}#sk-container-id-1 div.sk-estimator {font-family: monospace;background-color: #f0f8ff;border: 1px dotted black;border-radius: 0.25em;box-sizing: border-box;margin-bottom: 0.5em;}#sk-container-id-1 div.sk-estimator:hover {background-color: #d4ebff;}#sk-container-id-1 div.sk-parallel-item::after {content: \"\";width: 100%;border-bottom: 1px solid gray;flex-grow: 1;}#sk-container-id-1 div.sk-label:hover label.sk-toggleable__label {background-color: #d4ebff;}#sk-container-id-1 div.sk-serial::before {content: \"\";position: absolute;border-left: 1px solid gray;box-sizing: border-box;top: 0;bottom: 0;left: 50%;z-index: 0;}#sk-container-id-1 div.sk-serial {display: flex;flex-direction: column;align-items: center;background-color: white;padding-right: 0.2em;padding-left: 0.2em;position: relative;}#sk-container-id-1 div.sk-item {position: relative;z-index: 1;}#sk-container-id-1 div.sk-parallel {display: flex;align-items: stretch;justify-content: center;background-color: white;position: relative;}#sk-container-id-1 div.sk-item::before, #sk-container-id-1 div.sk-parallel-item::before {content: \"\";position: absolute;border-left: 1px solid gray;box-sizing: border-box;top: 0;bottom: 0;left: 50%;z-index: -1;}#sk-container-id-1 div.sk-parallel-item {display: flex;flex-direction: column;z-index: 1;position: relative;background-color: white;}#sk-container-id-1 div.sk-parallel-item:first-child::after {align-self: flex-end;width: 50%;}#sk-container-id-1 div.sk-parallel-item:last-child::after {align-self: flex-start;width: 50%;}#sk-container-id-1 div.sk-parallel-item:only-child::after {width: 0;}#sk-container-id-1 div.sk-dashed-wrapped {border: 1px dashed gray;margin: 0 0.4em 0.5em 0.4em;box-sizing: border-box;padding-bottom: 0.4em;background-color: white;}#sk-container-id-1 div.sk-label label {font-family: monospace;font-weight: bold;display: inline-block;line-height: 1.2em;}#sk-container-id-1 div.sk-label-container {text-align: center;}#sk-container-id-1 div.sk-container {/* jupyter's `normalize.less` sets `[hidden] { display: none; }` but bootstrap.min.css set `[hidden] { display: none !important; }` so we also need the `!important` here to be able to override the default hidden behavior on the sphinx rendered scikit-learn.org. See: https://github.com/scikit-learn/scikit-learn/issues/21755 */display: inline-block !important;position: relative;}#sk-container-id-1 div.sk-text-repr-fallback {display: none;}</style><div id=\"sk-container-id-1\" class=\"sk-top-container\"><div class=\"sk-text-repr-fallback\"><pre>GaussianNB()</pre><b>In a Jupyter environment, please rerun this cell to show the HTML representation or trust the notebook. <br />On GitHub, the HTML representation is unable to render, please try loading this page with nbviewer.org.</b></div><div class=\"sk-container\" hidden><div class=\"sk-item\"><div class=\"sk-estimator sk-toggleable\"><input class=\"sk-toggleable__control sk-hidden--visually\" id=\"sk-estimator-id-1\" type=\"checkbox\" checked><label for=\"sk-estimator-id-1\" class=\"sk-toggleable__label sk-toggleable__label-arrow\">GaussianNB</label><div class=\"sk-toggleable__content\"><pre>GaussianNB()</pre></div></div></div></div></div>"
            ]
          },
          "metadata": {},
          "execution_count": 7
        }
      ]
    },
    {
      "cell_type": "markdown",
      "source": [
        "Step 8: Next, we make predictions on the test dataset"
      ],
      "metadata": {
        "id": "eM_Q2lTww4Mo"
      }
    },
    {
      "cell_type": "code",
      "source": [
        "# Make predictions on the test set\n",
        "y_pred = model.predict(X_test)"
      ],
      "metadata": {
        "id": "lLjcRVCQw2rD"
      },
      "execution_count": 8,
      "outputs": []
    },
    {
      "cell_type": "markdown",
      "source": [
        "Step 9: Evaluate the model for accuracy."
      ],
      "metadata": {
        "id": "JabWQZSLxFRT"
      }
    },
    {
      "cell_type": "code",
      "source": [
        "# Evaluate the model\n",
        "accuracy = accuracy_score(y_test, y_pred)\n",
        "classification_rep = classification_report(y_test, y_pred)\n",
        "\n",
        "print(f\"Accuracy: {accuracy}\")\n",
        "print(\"Classification Report:\\n\", classification_rep)\n",
        "\n",
        "# Print the total number of anomalies and non-anomalies\n",
        "total_samples = len(df)\n",
        "total_anomalies = df['Anomalous'].sum()\n",
        "total_non_anomalies = total_samples - total_anomalies\n",
        "\n",
        "print(f\"Total samples:{total_samples}\")\n",
        "print(f\"Total Anomalies Identified: {total_anomalies}\")\n",
        "print(f\"Total Non-Anomalies: {total_non_anomalies}\")"
      ],
      "metadata": {
        "colab": {
          "base_uri": "https://localhost:8080/"
        },
        "id": "sICTCOlQxClC",
        "outputId": "134f0997-4d67-41ab-ca46-5199fb8f11d5"
      },
      "execution_count": 9,
      "outputs": [
        {
          "output_type": "stream",
          "name": "stdout",
          "text": [
            "Accuracy: 0.984375\n",
            "Classification Report:\n",
            "               precision    recall  f1-score   support\n",
            "\n",
            "           0       1.00      0.99      0.99      1500\n",
            "           1       0.92      0.97      0.94       228\n",
            "\n",
            "    accuracy                           0.98      1728\n",
            "   macro avg       0.96      0.98      0.97      1728\n",
            "weighted avg       0.98      0.98      0.98      1728\n",
            "\n",
            "Total samples:8640\n",
            "Total Anomalies Identified: 1173\n",
            "Total Non-Anomalies: 7467\n"
          ]
        }
      ]
    },
    {
      "cell_type": "markdown",
      "source": [
        "Step 10: Visualize the Decision Boundry for the prediction of the trained model."
      ],
      "metadata": {
        "id": "IGhbvzSExLol"
      }
    },
    {
      "cell_type": "code",
      "source": [
        "import numpy as np\n",
        "import matplotlib.pyplot as plt\n",
        "\n",
        "# ... (previous code remains unchanged)\n",
        "\n",
        "# Select only the 'Packet_Size' feature for plotting\n",
        "X_packet_size = X['Packet_Size'].values.reshape(-1, 1)\n",
        "\n",
        "# Train the Naive Bayes classifier on the 'Packet_Size' feature\n",
        "model_packet_size = GaussianNB()\n",
        "model_packet_size.fit(X_packet_size, y)\n",
        "\n",
        "# Plot decision boundary\n",
        "x_min, x_max = X_packet_size.min() - 1, X_packet_size.max() + 1\n",
        "xx = np.linspace(x_min, x_max, 1000).reshape(-1, 1)\n",
        "yy = model_packet_size.predict(xx)\n",
        "\n",
        "plt.scatter(X_packet_size, y, c=y, cmap='viridis', edgecolors='k', marker='o', s=80)\n",
        "plt.plot(xx, yy, color='red', linewidth=2)\n",
        "\n",
        "plt.title('Naive Bayes Decision Boundary (Packet_Size)')\n",
        "plt.xlabel('Packet_Size')\n",
        "plt.ylabel('Anomalous (1) / Normal (0)')\n",
        "\n",
        "plt.show()"
      ],
      "metadata": {
        "colab": {
          "base_uri": "https://localhost:8080/",
          "height": 472
        },
        "id": "3tpfLi0UoiUw",
        "outputId": "09b55f8b-1466-4d62-8b36-a541889e0459"
      },
      "execution_count": 10,
      "outputs": [
        {
          "output_type": "display_data",
          "data": {
            "text/plain": [
              "<Figure size 640x480 with 1 Axes>"
            ],
            "image/png": "[encoded data removed]"
          },
          "metadata": {}
        }
      ]
    }
  ]
}